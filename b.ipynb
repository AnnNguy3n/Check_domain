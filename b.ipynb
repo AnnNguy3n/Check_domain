{
 "cells": [
  {
   "cell_type": "code",
   "execution_count": null,
   "metadata": {},
   "outputs": [],
   "source": [
    "with open(\"texas.txt\", \"r\") as f:\n",
    "    domains = f.read()\n",
    "\n",
    "list_domain = [t_.strip() for t_ in domains.split(\"\\n\")]\n",
    "len(list_domain)"
   ]
  },
  {
   "cell_type": "code",
   "execution_count": null,
   "metadata": {},
   "outputs": [],
   "source": [
    "# !google-chrome --remote-debugging-port=9222 --user-data-dir=\"/usr/chrome/netim\""
   ]
  },
  {
   "cell_type": "code",
   "execution_count": null,
   "metadata": {},
   "outputs": [],
   "source": [
    "from selenium import webdriver\n",
    "from selenium.webdriver.edge.service import Service\n",
    "from webdriver_manager.microsoft import EdgeChromiumDriverManager\n",
    "from selenium.webdriver.common.by import By\n",
    "from selenium.webdriver.common.action_chains import ActionChains\n",
    "from selenium.webdriver.common.keys import Keys\n",
    "from bs4 import BeautifulSoup\n",
    "import time\n",
    "import json\n",
    "\n",
    "options = webdriver.EdgeOptions()\n",
    "options.binary_location = \"/usr/bin/microsoft-edge\"\n",
    "options.add_experimental_option(\"debuggerAddress\", \"127.0.0.1:9222\")\n",
    "\n",
    "service = Service(EdgeChromiumDriverManager().install())\n",
    "\n",
    "br = webdriver.Edge(options, service)\n",
    "br.maximize_window()\n",
    "# if br.current_url != \"https://www.netim.com/en/domain-name/search\":\n",
    "#     br.get(\"https://www.netim.com/en/domain-name/search\")\n",
    "\n",
    "# if br.find_element(By.ID, \"recherche-multiple-trigger\").text == \"Bulk domain search\":\n",
    "#     br.find_element(By.ID, \"recherche-multiple-trigger\").click()\n",
    "\n",
    "chunk_size = 300\n",
    "\n",
    "actions = ActionChains(br, 1)"
   ]
  },
  {
   "cell_type": "code",
   "execution_count": null,
   "metadata": {},
   "outputs": [],
   "source": [
    "def download(k):\n",
    "    list_text = list_domain[k*chunk_size:(k+1)*chunk_size]\n",
    "    input_box = br.find_element(By.ID, \"recherche-domaine-input_multiple\")\n",
    "    button = br.find_element(By.ID, \"trigger-search-multiple\")\n",
    "    input_box.clear()\n",
    "    input_box.send_keys(\"\\n\".join(list_text))\n",
    "    button.click()\n",
    "    time.sleep(3)\n",
    "    while True:\n",
    "        try:\n",
    "            br.find_element(By.ID, \"exportResults\").click()\n",
    "            break\n",
    "        except:\n",
    "            pass\n",
    "    \n",
    "    while True:\n",
    "        try:\n",
    "            button = br.find_element(By.ID, \"trigger-search-multiple\")\n",
    "            actions.move_to_element(button).perform()\n",
    "            break\n",
    "        except:\n",
    "            time.sleep(2)"
   ]
  },
  {
   "cell_type": "code",
   "execution_count": null,
   "metadata": {},
   "outputs": [],
   "source": [
    "def run(start, end):\n",
    "    for k in range(start, end):\n",
    "        download(k)\n",
    "        with open(\"done.json\", \"r\") as f:\n",
    "            done = json.load(f)\n",
    "\n",
    "        done.append(k)\n",
    "\n",
    "        with open(\"done.json\", \"w\") as f:\n",
    "            json.dump(done, f)"
   ]
  },
  {
   "cell_type": "code",
   "execution_count": null,
   "metadata": {},
   "outputs": [],
   "source": [
    "with open(\"done.json\", \"r\") as f:\n",
    "    done = json.load(f)\n",
    "\n",
    "start = done[-1]\n",
    "print(start)\n",
    "run(start+1, 200)"
   ]
  },
  {
   "cell_type": "code",
   "execution_count": null,
   "metadata": {},
   "outputs": [],
   "source": [
    "# import pandas as pd\n",
    "# import os\n",
    "# def get_data(path):\n",
    "#     with open(path, \"r\") as f:\n",
    "#         text = f.read()\n",
    "\n",
    "#     temp_list = [row for row in text.split(\"\\n\") if \";\" in row]\n",
    "#     tmp_lst = []\n",
    "#     for t in temp_list:\n",
    "#         tmp_lst.append(t.split(\";\"))\n",
    "\n",
    "#     return pd.DataFrame(tmp_lst[1:], columns=tmp_lst[0])\n",
    "\n",
    "# list_data = []\n",
    "# for path in os.listdir(\"save/\"):\n",
    "#     list_data.append(get_data(\"save/\"+path))"
   ]
  }
 ],
 "metadata": {
  "kernelspec": {
   "display_name": "Python 3",
   "language": "python",
   "name": "python3"
  },
  "language_info": {
   "codemirror_mode": {
    "name": "ipython",
    "version": 3
   },
   "file_extension": ".py",
   "mimetype": "text/x-python",
   "name": "python",
   "nbconvert_exporter": "python",
   "pygments_lexer": "ipython3",
   "version": "3.10.12"
  }
 },
 "nbformat": 4,
 "nbformat_minor": 2
}
